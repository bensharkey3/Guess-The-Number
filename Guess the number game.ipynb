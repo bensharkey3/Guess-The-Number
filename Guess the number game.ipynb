{
 "cells": [
  {
   "cell_type": "markdown",
   "metadata": {},
   "source": [
    "# Guess the number game"
   ]
  },
  {
   "cell_type": "markdown",
   "metadata": {},
   "source": [
    "A simple guess the number game which makes the player guess a random number from 1 to 100. When the correct number is guessed, the total number of guesses is returned and the player is asked if they want to play again."
   ]
  },
  {
   "cell_type": "code",
   "execution_count": 1,
   "metadata": {
    "collapsed": false
   },
   "outputs": [
    {
     "name": "stdout",
     "output_type": "stream",
     "text": [
      "Enter your name:  Ben\n",
      "\n",
      "Ok Ben\n",
      "Guess a number between 1 and 100:  50\n",
      "higher!\n",
      "guess again:  75\n",
      "higher!\n",
      "guess again:  88\n",
      "lower!\n",
      "guess again:  81\n",
      "higher!\n",
      "guess again:  85\n",
      "lower!\n",
      "guess again:  83\n",
      "higher!\n",
      "guess again:  84\n",
      "you got it!\n",
      "it took you 7 guesses\n",
      "\n",
      "Play again? (enter y or n):  apjdhehnw\n",
      "invalid response, please enter y or n\n",
      "Play again? (enter y or n):  y\n",
      "\n",
      "Ok Ben\n",
      "Guess a number between 1 and 100:  50\n",
      "higher!\n",
      "guess again:  75\n",
      "higher!\n",
      "guess again:  88\n",
      "higher!\n",
      "guess again:  93\n",
      "higher!\n",
      "guess again:  96\n",
      "higher!\n",
      "guess again:  99\n",
      "you got it!\n",
      "it took you 6 guesses\n",
      "\n",
      "Play again? (enter y or n):  n\n",
      "Thanks for playing!\n"
     ]
    }
   ],
   "source": [
    "import random\n",
    "\n",
    "name = input('Enter your name:  ')\n",
    "\n",
    "playing = 'y'\n",
    "\n",
    "while playing == 'y':\n",
    "    answer = random.randint(1,100)\n",
    "    print('')\n",
    "    print('Ok', name)\n",
    "    guess = int(input('Guess a number between 1 and 100:  '))\n",
    "\n",
    "    count = 1\n",
    "\n",
    "    while guess != answer:\n",
    "        if guess > answer:\n",
    "            print('lower!')\n",
    "        elif guess < answer:\n",
    "            print('higher!')\n",
    "        guess = int(input('guess again:  '))\n",
    "        count += 1\n",
    "\n",
    "    print('you got it!')\n",
    "    print('it took you', count, 'guesses')\n",
    "    print('')\n",
    "    play_again = str(input('Play again? (enter y or n):  '))\n",
    "    if play_again == 'n':\n",
    "        print('Thanks for playing!')\n",
    "        playing = 'n'\n",
    "    elif play_again =='y':\n",
    "        playing = 'y'\n",
    "    else:\n",
    "        print('invalid response, please enter y or n')\n",
    "        play_again = str(input('Play again? (enter y or n):  '))"
   ]
  }
 ],
 "metadata": {
  "kernelspec": {
   "display_name": "Python 3",
   "language": "python",
   "name": "python3"
  },
  "language_info": {
   "codemirror_mode": {
    "name": "ipython",
    "version": 3
   },
   "file_extension": ".py",
   "mimetype": "text/x-python",
   "name": "python",
   "nbconvert_exporter": "python",
   "pygments_lexer": "ipython3",
   "version": "3.6.0"
  }
 },
 "nbformat": 4,
 "nbformat_minor": 2
}
